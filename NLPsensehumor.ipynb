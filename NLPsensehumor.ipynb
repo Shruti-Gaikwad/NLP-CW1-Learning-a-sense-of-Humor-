{
 "cells": [
  {
   "cell_type": "code",
   "execution_count": 1,
   "id": "609889d3",
   "metadata": {},
   "outputs": [],
   "source": [
    "import pandas as pd\n",
    "import re\n",
    "from sklearn.model_selection import train_test_split\n",
    "from sklearn.feature_extraction.text import TfidfVectorizer\n",
    "from sklearn.ensemble import RandomForestClassifier\n",
    "from sklearn.tree import DecisionTreeClassifier\n",
    "from sklearn.svm import SVC\n",
    "from sklearn.metrics import f1_score, accuracy_score, precision_score, recall_score, classification_report, confusion_matrix\n",
    "import seaborn as sns\n",
    "import matplotlib.pyplot as plt"
   ]
  },
  {
   "cell_type": "code",
   "execution_count": 2,
   "id": "0f799cb4",
   "metadata": {},
   "outputs": [],
   "source": [
    "df=pd.read_csv(r\"C:/Users/dell/OneDrive/Documents/NLPCW1/Merged-file.tsv\", delimiter='\\t')"
   ]
  },
  {
   "cell_type": "code",
   "execution_count": 3,
   "id": "7e642b05",
   "metadata": {},
   "outputs": [],
   "source": [
    "df.columns=['ID','Tweet','Tag']"
   ]
  },
  {
   "cell_type": "code",
   "execution_count": 4,
   "id": "c4f9a3d6",
   "metadata": {},
   "outputs": [
    {
     "data": {
      "text/html": [
       "<div>\n",
       "<style scoped>\n",
       "    .dataframe tbody tr th:only-of-type {\n",
       "        vertical-align: middle;\n",
       "    }\n",
       "\n",
       "    .dataframe tbody tr th {\n",
       "        vertical-align: top;\n",
       "    }\n",
       "\n",
       "    .dataframe thead th {\n",
       "        text-align: right;\n",
       "    }\n",
       "</style>\n",
       "<table border=\"1\" class=\"dataframe\">\n",
       "  <thead>\n",
       "    <tr style=\"text-align: right;\">\n",
       "      <th></th>\n",
       "      <th>ID</th>\n",
       "      <th>Tweet</th>\n",
       "      <th>Tag</th>\n",
       "    </tr>\n",
       "  </thead>\n",
       "  <tbody>\n",
       "    <tr>\n",
       "      <th>0</th>\n",
       "      <td>6.489790e+17</td>\n",
       "      <td>ERMAHGERD PEHRMKIN SPERCE!!! #AutumnIn3Words @...</td>\n",
       "      <td>0</td>\n",
       "    </tr>\n",
       "    <tr>\n",
       "      <th>1</th>\n",
       "      <td>6.487030e+17</td>\n",
       "      <td>New NBC Cancellations @midnight #AutumnIn3Words</td>\n",
       "      <td>2</td>\n",
       "    </tr>\n",
       "    <tr>\n",
       "      <th>2</th>\n",
       "      <td>6.487010e+17</td>\n",
       "      <td>Winter's pretty sister  #AutumnIn3Words @midnight</td>\n",
       "      <td>1</td>\n",
       "    </tr>\n",
       "    <tr>\n",
       "      <th>3</th>\n",
       "      <td>6.487020e+17</td>\n",
       "      <td>Netflix and chill \\U0001f609 #AutumnIn3Words @...</td>\n",
       "      <td>1</td>\n",
       "    </tr>\n",
       "    <tr>\n",
       "      <th>4</th>\n",
       "      <td>6.487010e+17</td>\n",
       "      <td>Leaf me alone  #AutumnIn3Words @midnight</td>\n",
       "      <td>1</td>\n",
       "    </tr>\n",
       "    <tr>\n",
       "      <th>...</th>\n",
       "      <td>...</td>\n",
       "      <td>...</td>\n",
       "      <td>...</td>\n",
       "    </tr>\n",
       "    <tr>\n",
       "      <th>916</th>\n",
       "      <td>7.175680e+17</td>\n",
       "      <td>Denture The Dragon #ElderlyMovies @midnight</td>\n",
       "      <td>1</td>\n",
       "    </tr>\n",
       "    <tr>\n",
       "      <th>917</th>\n",
       "      <td>7.175590e+17</td>\n",
       "      <td>Brittle Women  #ElderlyMovies @midnight</td>\n",
       "      <td>2</td>\n",
       "    </tr>\n",
       "    <tr>\n",
       "      <th>918</th>\n",
       "      <td>7.175990e+17</td>\n",
       "      <td>Legends Of The Fall &amp; Break A Hip #ElderlyMovi...</td>\n",
       "      <td>1</td>\n",
       "    </tr>\n",
       "    <tr>\n",
       "      <th>919</th>\n",
       "      <td>7.175560e+17</td>\n",
       "      <td>Peter Bed Pan #ElderlyMovies @midnight</td>\n",
       "      <td>1</td>\n",
       "    </tr>\n",
       "    <tr>\n",
       "      <th>920</th>\n",
       "      <td>7.175610e+17</td>\n",
       "      <td>Straight Outta Coupons #ElderlyMovies @midnight</td>\n",
       "      <td>1</td>\n",
       "    </tr>\n",
       "  </tbody>\n",
       "</table>\n",
       "<p>921 rows × 3 columns</p>\n",
       "</div>"
      ],
      "text/plain": [
       "               ID                                              Tweet  Tag\n",
       "0    6.489790e+17  ERMAHGERD PEHRMKIN SPERCE!!! #AutumnIn3Words @...    0\n",
       "1    6.487030e+17    New NBC Cancellations @midnight #AutumnIn3Words    2\n",
       "2    6.487010e+17  Winter's pretty sister  #AutumnIn3Words @midnight    1\n",
       "3    6.487020e+17  Netflix and chill \\U0001f609 #AutumnIn3Words @...    1\n",
       "4    6.487010e+17           Leaf me alone  #AutumnIn3Words @midnight    1\n",
       "..            ...                                                ...  ...\n",
       "916  7.175680e+17        Denture The Dragon #ElderlyMovies @midnight    1\n",
       "917  7.175590e+17            Brittle Women  #ElderlyMovies @midnight    2\n",
       "918  7.175990e+17  Legends Of The Fall & Break A Hip #ElderlyMovi...    1\n",
       "919  7.175560e+17             Peter Bed Pan #ElderlyMovies @midnight    1\n",
       "920  7.175610e+17    Straight Outta Coupons #ElderlyMovies @midnight    1\n",
       "\n",
       "[921 rows x 3 columns]"
      ]
     },
     "execution_count": 4,
     "metadata": {},
     "output_type": "execute_result"
    }
   ],
   "source": [
    "df"
   ]
  },
  {
   "cell_type": "code",
   "execution_count": 5,
   "id": "536d9595",
   "metadata": {},
   "outputs": [],
   "source": [
    "def clean_text(text):\n",
    "    text = text.lower()\n",
    "    text = re.sub(r'http\\S+', '', text)\n",
    "    text = re.sub(r'@\\S+', '', text)\n",
    "    text = re.sub(r'#', '', text)  # Remove hashtags\n",
    "    text = re.sub(r'[^a-zA-Z\\s]', '', text)\n",
    "    text = re.sub(r'\\s+', ' ', text).strip()\n",
    "    return text\n"
   ]
  },
  {
   "cell_type": "code",
   "execution_count": 6,
   "id": "0e39be1c",
   "metadata": {},
   "outputs": [],
   "source": [
    "df['clean_text'] = df['Tweet'].apply(clean_text)"
   ]
  },
  {
   "cell_type": "code",
   "execution_count": 7,
   "id": "25cbe022",
   "metadata": {},
   "outputs": [
    {
     "data": {
      "text/html": [
       "<div>\n",
       "<style scoped>\n",
       "    .dataframe tbody tr th:only-of-type {\n",
       "        vertical-align: middle;\n",
       "    }\n",
       "\n",
       "    .dataframe tbody tr th {\n",
       "        vertical-align: top;\n",
       "    }\n",
       "\n",
       "    .dataframe thead th {\n",
       "        text-align: right;\n",
       "    }\n",
       "</style>\n",
       "<table border=\"1\" class=\"dataframe\">\n",
       "  <thead>\n",
       "    <tr style=\"text-align: right;\">\n",
       "      <th></th>\n",
       "      <th>ID</th>\n",
       "      <th>Tweet</th>\n",
       "      <th>Tag</th>\n",
       "      <th>clean_text</th>\n",
       "    </tr>\n",
       "  </thead>\n",
       "  <tbody>\n",
       "    <tr>\n",
       "      <th>0</th>\n",
       "      <td>6.489790e+17</td>\n",
       "      <td>ERMAHGERD PEHRMKIN SPERCE!!! #AutumnIn3Words @...</td>\n",
       "      <td>0</td>\n",
       "      <td>ermahgerd pehrmkin sperce autumninwords</td>\n",
       "    </tr>\n",
       "    <tr>\n",
       "      <th>1</th>\n",
       "      <td>6.487030e+17</td>\n",
       "      <td>New NBC Cancellations @midnight #AutumnIn3Words</td>\n",
       "      <td>2</td>\n",
       "      <td>new nbc cancellations autumninwords</td>\n",
       "    </tr>\n",
       "    <tr>\n",
       "      <th>2</th>\n",
       "      <td>6.487010e+17</td>\n",
       "      <td>Winter's pretty sister  #AutumnIn3Words @midnight</td>\n",
       "      <td>1</td>\n",
       "      <td>winters pretty sister autumninwords</td>\n",
       "    </tr>\n",
       "    <tr>\n",
       "      <th>3</th>\n",
       "      <td>6.487020e+17</td>\n",
       "      <td>Netflix and chill \\U0001f609 #AutumnIn3Words @...</td>\n",
       "      <td>1</td>\n",
       "      <td>netflix and chill uf autumninwords</td>\n",
       "    </tr>\n",
       "    <tr>\n",
       "      <th>4</th>\n",
       "      <td>6.487010e+17</td>\n",
       "      <td>Leaf me alone  #AutumnIn3Words @midnight</td>\n",
       "      <td>1</td>\n",
       "      <td>leaf me alone autumninwords</td>\n",
       "    </tr>\n",
       "    <tr>\n",
       "      <th>...</th>\n",
       "      <td>...</td>\n",
       "      <td>...</td>\n",
       "      <td>...</td>\n",
       "      <td>...</td>\n",
       "    </tr>\n",
       "    <tr>\n",
       "      <th>916</th>\n",
       "      <td>7.175680e+17</td>\n",
       "      <td>Denture The Dragon #ElderlyMovies @midnight</td>\n",
       "      <td>1</td>\n",
       "      <td>denture the dragon elderlymovies</td>\n",
       "    </tr>\n",
       "    <tr>\n",
       "      <th>917</th>\n",
       "      <td>7.175590e+17</td>\n",
       "      <td>Brittle Women  #ElderlyMovies @midnight</td>\n",
       "      <td>2</td>\n",
       "      <td>brittle women elderlymovies</td>\n",
       "    </tr>\n",
       "    <tr>\n",
       "      <th>918</th>\n",
       "      <td>7.175990e+17</td>\n",
       "      <td>Legends Of The Fall &amp; Break A Hip #ElderlyMovi...</td>\n",
       "      <td>1</td>\n",
       "      <td>legends of the fall break a hip elderlymovies</td>\n",
       "    </tr>\n",
       "    <tr>\n",
       "      <th>919</th>\n",
       "      <td>7.175560e+17</td>\n",
       "      <td>Peter Bed Pan #ElderlyMovies @midnight</td>\n",
       "      <td>1</td>\n",
       "      <td>peter bed pan elderlymovies</td>\n",
       "    </tr>\n",
       "    <tr>\n",
       "      <th>920</th>\n",
       "      <td>7.175610e+17</td>\n",
       "      <td>Straight Outta Coupons #ElderlyMovies @midnight</td>\n",
       "      <td>1</td>\n",
       "      <td>straight outta coupons elderlymovies</td>\n",
       "    </tr>\n",
       "  </tbody>\n",
       "</table>\n",
       "<p>921 rows × 4 columns</p>\n",
       "</div>"
      ],
      "text/plain": [
       "               ID                                              Tweet  Tag  \\\n",
       "0    6.489790e+17  ERMAHGERD PEHRMKIN SPERCE!!! #AutumnIn3Words @...    0   \n",
       "1    6.487030e+17    New NBC Cancellations @midnight #AutumnIn3Words    2   \n",
       "2    6.487010e+17  Winter's pretty sister  #AutumnIn3Words @midnight    1   \n",
       "3    6.487020e+17  Netflix and chill \\U0001f609 #AutumnIn3Words @...    1   \n",
       "4    6.487010e+17           Leaf me alone  #AutumnIn3Words @midnight    1   \n",
       "..            ...                                                ...  ...   \n",
       "916  7.175680e+17        Denture The Dragon #ElderlyMovies @midnight    1   \n",
       "917  7.175590e+17            Brittle Women  #ElderlyMovies @midnight    2   \n",
       "918  7.175990e+17  Legends Of The Fall & Break A Hip #ElderlyMovi...    1   \n",
       "919  7.175560e+17             Peter Bed Pan #ElderlyMovies @midnight    1   \n",
       "920  7.175610e+17    Straight Outta Coupons #ElderlyMovies @midnight    1   \n",
       "\n",
       "                                        clean_text  \n",
       "0          ermahgerd pehrmkin sperce autumninwords  \n",
       "1              new nbc cancellations autumninwords  \n",
       "2              winters pretty sister autumninwords  \n",
       "3               netflix and chill uf autumninwords  \n",
       "4                      leaf me alone autumninwords  \n",
       "..                                             ...  \n",
       "916               denture the dragon elderlymovies  \n",
       "917                    brittle women elderlymovies  \n",
       "918  legends of the fall break a hip elderlymovies  \n",
       "919                    peter bed pan elderlymovies  \n",
       "920           straight outta coupons elderlymovies  \n",
       "\n",
       "[921 rows x 4 columns]"
      ]
     },
     "execution_count": 7,
     "metadata": {},
     "output_type": "execute_result"
    }
   ],
   "source": [
    "df"
   ]
  },
  {
   "cell_type": "code",
   "execution_count": 8,
   "id": "a1b5fdf9",
   "metadata": {},
   "outputs": [
    {
     "data": {
      "image/png": "[encoded data removed]",
      "text/plain": [
       "<Figure size 640x480 with 1 Axes>"
      ]
     },
     "metadata": {},
     "output_type": "display_data"
    }
   ],
   "source": [
    "sns.countplot(x='Tag', data=df)\n",
    "plt.title('Distribution of Tags')\n",
    "plt.show()"
   ]
  },
  {
   "cell_type": "code",
   "execution_count": 9,
   "id": "3682bea5",
   "metadata": {},
   "outputs": [],
   "source": [
    "X_train, X_test, y_train, y_test = train_test_split(df['clean_text'], df['Tag'], test_size=0.2, random_state=42)\n"
   ]
  },
  {
   "cell_type": "code",
   "execution_count": 10,
   "id": "3840f2dd",
   "metadata": {},
   "outputs": [],
   "source": [
    "vectorizer = TfidfVectorizer(max_features=5000, lowercase=True, stop_words='english')\n"
   ]
  },
  {
   "cell_type": "code",
   "execution_count": 11,
   "id": "f9cf7fcc",
   "metadata": {},
   "outputs": [],
   "source": [
    "X_train_tfidf = vectorizer.fit_transform(X_train)\n"
   ]
  },
  {
   "cell_type": "code",
   "execution_count": 12,
   "id": "8b333025",
   "metadata": {},
   "outputs": [],
   "source": [
    "X_test_tfidf = vectorizer.transform(X_test)\n",
    "\n",
    "# Define classifiers\n",
    "classifiers = {\n",
    "    'Random Forest': RandomForestClassifier(random_state=42),\n",
    "    'Decision Tree': DecisionTreeClassifier(random_state=42),\n",
    "    'SVM': SVC(kernel='linear', random_state=42)\n",
    "}"
   ]
  },
  {
   "cell_type": "code",
   "execution_count": 13,
   "id": "25de26e6",
   "metadata": {},
   "outputs": [],
   "source": [
    "def evaluate_model(model, X_test, y_test):\n",
    "    y_pred = model.predict(X_test)\n",
    "    accuracy = accuracy_score(y_test, y_pred)\n",
    "    f1 = f1_score(y_test, y_pred, average='weighted')\n",
    "    precision = precision_score(y_test, y_pred, average='weighted')\n",
    "    recall = recall_score(y_test, y_pred, average='weighted')\n",
    "    print(classification_report(y_test, y_pred))\n",
    "    print('Confusion Matrix:\\n', confusion_matrix(y_test, y_pred))\n",
    "    return accuracy, f1, precision, recall"
   ]
  },
  {
   "cell_type": "code",
   "execution_count": 14,
   "id": "20543224",
   "metadata": {
    "scrolled": true
   },
   "outputs": [
    {
     "name": "stdout",
     "output_type": "stream",
     "text": [
      "Training Random Forest...\n",
      "Evaluating Random Forest...\n",
      "              precision    recall  f1-score   support\n",
      "\n",
      "           0       0.88      1.00      0.93       162\n",
      "           1       0.00      0.00      0.00        20\n",
      "           2       0.00      0.00      0.00         3\n",
      "\n",
      "    accuracy                           0.88       185\n",
      "   macro avg       0.29      0.33      0.31       185\n",
      "weighted avg       0.77      0.88      0.82       185\n",
      "\n",
      "Confusion Matrix:\n",
      " [[162   0   0]\n",
      " [ 20   0   0]\n",
      " [  3   0   0]]\n",
      "Training Decision Tree...\n",
      "Evaluating Decision Tree...\n",
      "              precision    recall  f1-score   support\n",
      "\n",
      "           0       0.88      0.83      0.85       162\n",
      "           1       0.10      0.15      0.12        20\n",
      "           2       0.00      0.00      0.00         3\n",
      "\n",
      "    accuracy                           0.75       185\n",
      "   macro avg       0.32      0.33      0.32       185\n",
      "weighted avg       0.78      0.75      0.76       185\n",
      "\n",
      "Confusion Matrix:\n",
      " [[135  27   0]\n",
      " [ 17   3   0]\n",
      " [  2   1   0]]\n",
      "Training SVM...\n",
      "Evaluating SVM...\n",
      "              precision    recall  f1-score   support\n",
      "\n",
      "           0       0.88      1.00      0.93       162\n",
      "           1       0.00      0.00      0.00        20\n",
      "           2       0.00      0.00      0.00         3\n",
      "\n",
      "    accuracy                           0.88       185\n",
      "   macro avg       0.29      0.33      0.31       185\n",
      "weighted avg       0.77      0.88      0.82       185\n",
      "\n",
      "Confusion Matrix:\n",
      " [[162   0   0]\n",
      " [ 20   0   0]\n",
      " [  3   0   0]]\n"
     ]
    },
    {
     "name": "stderr",
     "output_type": "stream",
     "text": [
      "C:\\Users\\dell\\anaconda3\\Lib\\site-packages\\sklearn\\metrics\\_classification.py:1344: UndefinedMetricWarning: Precision is ill-defined and being set to 0.0 in labels with no predicted samples. Use `zero_division` parameter to control this behavior.\n",
      "  _warn_prf(average, modifier, msg_start, len(result))\n",
      "C:\\Users\\dell\\anaconda3\\Lib\\site-packages\\sklearn\\metrics\\_classification.py:1344: UndefinedMetricWarning: Precision and F-score are ill-defined and being set to 0.0 in labels with no predicted samples. Use `zero_division` parameter to control this behavior.\n",
      "  _warn_prf(average, modifier, msg_start, len(result))\n",
      "C:\\Users\\dell\\anaconda3\\Lib\\site-packages\\sklearn\\metrics\\_classification.py:1344: UndefinedMetricWarning: Precision and F-score are ill-defined and being set to 0.0 in labels with no predicted samples. Use `zero_division` parameter to control this behavior.\n",
      "  _warn_prf(average, modifier, msg_start, len(result))\n",
      "C:\\Users\\dell\\anaconda3\\Lib\\site-packages\\sklearn\\metrics\\_classification.py:1344: UndefinedMetricWarning: Precision and F-score are ill-defined and being set to 0.0 in labels with no predicted samples. Use `zero_division` parameter to control this behavior.\n",
      "  _warn_prf(average, modifier, msg_start, len(result))\n",
      "C:\\Users\\dell\\anaconda3\\Lib\\site-packages\\sklearn\\metrics\\_classification.py:1344: UndefinedMetricWarning: Precision is ill-defined and being set to 0.0 in labels with no predicted samples. Use `zero_division` parameter to control this behavior.\n",
      "  _warn_prf(average, modifier, msg_start, len(result))\n",
      "C:\\Users\\dell\\anaconda3\\Lib\\site-packages\\sklearn\\metrics\\_classification.py:1344: UndefinedMetricWarning: Precision and F-score are ill-defined and being set to 0.0 in labels with no predicted samples. Use `zero_division` parameter to control this behavior.\n",
      "  _warn_prf(average, modifier, msg_start, len(result))\n",
      "C:\\Users\\dell\\anaconda3\\Lib\\site-packages\\sklearn\\metrics\\_classification.py:1344: UndefinedMetricWarning: Precision and F-score are ill-defined and being set to 0.0 in labels with no predicted samples. Use `zero_division` parameter to control this behavior.\n",
      "  _warn_prf(average, modifier, msg_start, len(result))\n",
      "C:\\Users\\dell\\anaconda3\\Lib\\site-packages\\sklearn\\metrics\\_classification.py:1344: UndefinedMetricWarning: Precision and F-score are ill-defined and being set to 0.0 in labels with no predicted samples. Use `zero_division` parameter to control this behavior.\n",
      "  _warn_prf(average, modifier, msg_start, len(result))\n",
      "C:\\Users\\dell\\anaconda3\\Lib\\site-packages\\sklearn\\metrics\\_classification.py:1344: UndefinedMetricWarning: Precision is ill-defined and being set to 0.0 in labels with no predicted samples. Use `zero_division` parameter to control this behavior.\n",
      "  _warn_prf(average, modifier, msg_start, len(result))\n",
      "C:\\Users\\dell\\anaconda3\\Lib\\site-packages\\sklearn\\metrics\\_classification.py:1344: UndefinedMetricWarning: Precision and F-score are ill-defined and being set to 0.0 in labels with no predicted samples. Use `zero_division` parameter to control this behavior.\n",
      "  _warn_prf(average, modifier, msg_start, len(result))\n",
      "C:\\Users\\dell\\anaconda3\\Lib\\site-packages\\sklearn\\metrics\\_classification.py:1344: UndefinedMetricWarning: Precision and F-score are ill-defined and being set to 0.0 in labels with no predicted samples. Use `zero_division` parameter to control this behavior.\n",
      "  _warn_prf(average, modifier, msg_start, len(result))\n",
      "C:\\Users\\dell\\anaconda3\\Lib\\site-packages\\sklearn\\metrics\\_classification.py:1344: UndefinedMetricWarning: Precision and F-score are ill-defined and being set to 0.0 in labels with no predicted samples. Use `zero_division` parameter to control this behavior.\n",
      "  _warn_prf(average, modifier, msg_start, len(result))\n"
     ]
    }
   ],
   "source": [
    "results = {}\n",
    "for name, clf in classifiers.items():\n",
    "    print(f'Training {name}...')\n",
    "    clf.fit(X_train_tfidf, y_train)\n",
    "    print(f'Evaluating {name}...')\n",
    "    accuracy, f1, precision, recall = evaluate_model(clf, X_test_tfidf, y_test)\n",
    "    results[name] = [accuracy, f1, precision, recall]"
   ]
  },
  {
   "cell_type": "code",
   "execution_count": 15,
   "id": "a1f57069",
   "metadata": {},
   "outputs": [],
   "source": [
    "results_df = pd.DataFrame(results, index=['Accuracy', 'F1 Score', 'Precision', 'Recall'])\n"
   ]
  },
  {
   "cell_type": "code",
   "execution_count": 16,
   "id": "c95c5736",
   "metadata": {},
   "outputs": [
    {
     "data": {
      "image/png": "[encoded data removed]",
      "text/plain": [
       "<Figure size 1000x700 with 1 Axes>"
      ]
     },
     "metadata": {},
     "output_type": "display_data"
    }
   ],
   "source": [
    "results_df.T.plot(kind='bar', figsize=(10, 7))\n",
    "plt.title('Model Performance Metrics')\n",
    "plt.ylabel('Score')\n",
    "plt.xticks(rotation=0)\n",
    "plt.show()"
   ]
  },
  {
   "cell_type": "code",
   "execution_count": 24,
   "id": "0f82bd9e",
   "metadata": {},
   "outputs": [
    {
     "name": "stdout",
     "output_type": "stream",
     "text": [
      "Prediction for example tweet: 2\n"
     ]
    }
   ],
   "source": [
    "example_tweet = \"Can't Touch This Thermostat #DadSongs @midnight\"\n",
    "example_cleaned = clean_text(example_tweet)\n",
    "example_tfidf = vectorizer.transform([example_cleaned])\n",
    "example_prediction = classifiers['Random Forest'].predict(example_tfidf)\n",
    "print(f'Prediction for example tweet: {example_prediction[0]}')"
   ]
  },
  {
   "cell_type": "code",
   "execution_count": 28,
   "id": "92ffd657",
   "metadata": {},
   "outputs": [],
   "source": [
    "def predict_humor(tweet, model, vectorizer):\n",
    "    cleaned_tweet = clean_text(tweet)\n",
    "    vectorized_tweet = vectorizer.transform([cleaned_tweet])\n",
    "    prediction = model.predict(vectorized_tweet)\n",
    "    return 'Humorous' if prediction[0] == 1 or 2 else 'Not Humorous'\n"
   ]
  },
  {
   "cell_type": "code",
   "execution_count": 29,
   "id": "e43598f3",
   "metadata": {},
   "outputs": [
    {
     "name": "stdout",
     "output_type": "stream",
     "text": [
      "Prediction for example tweet: Humorous\n"
     ]
    }
   ],
   "source": [
    "example_tweet = \"Can't Touch This Thermostat #DadSongs @midnight\"\n",
    "chosen_model = classifiers['Random Forest']  # You can choose any trained model\n",
    "prediction = predict_humor(example_tweet, chosen_model, vectorizer)\n",
    "print(f'Prediction for example tweet: {prediction}')"
   ]
  },
  {
   "cell_type": "code",
   "execution_count": null,
   "id": "2be93dcb",
   "metadata": {},
   "outputs": [],
   "source": []
  },
  {
   "cell_type": "code",
   "execution_count": null,
   "id": "c62045e4",
   "metadata": {},
   "outputs": [],
   "source": []
  },
  {
   "cell_type": "code",
   "execution_count": null,
   "id": "ed807a05",
   "metadata": {},
   "outputs": [],
   "source": []
  },
  {
   "cell_type": "code",
   "execution_count": null,
   "id": "907563a4",
   "metadata": {},
   "outputs": [],
   "source": []
  },
  {
   "cell_type": "code",
   "execution_count": null,
   "id": "1bbf82f2",
   "metadata": {},
   "outputs": [],
   "source": []
  },
  {
   "cell_type": "code",
   "execution_count": null,
   "id": "133df1ff",
   "metadata": {},
   "outputs": [],
   "source": []
  }
 ],
 "metadata": {
  "kernelspec": {
   "display_name": "Python 3 (ipykernel)",
   "language": "python",
   "name": "python3"
  },
  "language_info": {
   "codemirror_mode": {
    "name": "ipython",
    "version": 3
   },
   "file_extension": ".py",
   "mimetype": "text/x-python",
   "name": "python",
   "nbconvert_exporter": "python",
   "pygments_lexer": "ipython3",
   "version": "3.11.7"
  }
 },
 "nbformat": 4,
 "nbformat_minor": 5
}
